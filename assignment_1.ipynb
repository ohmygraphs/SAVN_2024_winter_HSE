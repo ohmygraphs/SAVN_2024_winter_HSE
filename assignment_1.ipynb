{
 "cells": [
  {
   "cell_type": "markdown",
   "id": "251de729",
   "metadata": {},
   "source": [
    "# Assignment 1\n",
    "\n",
    "### This notebook consists of 2 parts: \n",
    "    - Power Law, \n",
    "    - Random graphs and generative network models. \n",
    "\n",
    "### You can receive max 20 points for both."
   ]
  },
  {
   "cell_type": "markdown",
   "id": "b40f6d50",
   "metadata": {},
   "source": [
    "## Complete [this form](https://forms.gle/J9uArMMmG9L6tKGu9) with your name, email and .ipynb until 15.02 23:59 msk"
   ]
  },
  {
   "cell_type": "markdown",
   "id": "4f461966",
   "metadata": {},
   "source": [
    "# Power law"
   ]
  },
  {
   "cell_type": "markdown",
   "id": "30c724ec",
   "metadata": {},
   "source": [
    "## 1. Guess graph by degree distribution (0 points)"
   ]
  },
  {
   "cell_type": "markdown",
   "id": "80dd4b98",
   "metadata": {},
   "source": [
    "Graph is described by the histogram [0, 2, 10] — 0 nodes with degree 0, 2 nodes with degree 1, 10 nodes with degree 2. The goal is to implement a function which can guess graph structure."
   ]
  },
  {
   "cell_type": "code",
   "execution_count": null,
   "id": "bbd53882",
   "metadata": {},
   "outputs": [],
   "source": [
    "import numpy as np\n",
    "from typing import List, Tuple\n",
    "\n",
    "dens_a = [0, 2, 10]\n",
    "plt.bar(range(len(dens_a)), dens_a)"
   ]
  },
  {
   "cell_type": "code",
   "execution_count": null,
   "id": "7e7e630d",
   "metadata": {},
   "outputs": [],
   "source": [
    "def generate_graph(nodes : np.ndarray, dens : List[int]) -> List[np.ndarray]:\n",
    "    # Your code here\n",
    "    raise NotImplementedError()"
   ]
  },
  {
   "cell_type": "code",
   "execution_count": null,
   "id": "7ea721ce",
   "metadata": {},
   "outputs": [],
   "source": [
    "# Another examples\n",
    "dens_b = [0, 0, 10]\n",
    "dens_c = [0, 0, 0, 0, 5]\n",
    "dens_d = [0, 5, 0, 0, 0, 1]"
   ]
  },
  {
   "cell_type": "markdown",
   "id": "f69e945a",
   "metadata": {},
   "source": [
    "## 2. Gygantic connected component (1 point)"
   ]
  },
  {
   "cell_type": "markdown",
   "id": "a2fc49dc",
   "metadata": {},
   "source": [
    "Two parameters are expected in the function input: vertices array and edges array. The goal is to implement a function that calculates the gygantic connected component."
   ]
  },
  {
   "cell_type": "code",
   "execution_count": null,
   "id": "0033a281",
   "metadata": {},
   "outputs": [],
   "source": [
    "def select_gygantic_component(nodes : np.ndarray, edges : List[np.ndarray]) -> [np.ndarray, List[np.ndarray]]:\n",
    "    # Your code here\n",
    "    raise NotImplementedError()"
   ]
  },
  {
   "cell_type": "markdown",
   "id": "48cc5b1d",
   "metadata": {},
   "source": [
    "## 3. Power law CDF (1 point)"
   ]
  },
  {
   "cell_type": "markdown",
   "id": "024fc7b1",
   "metadata": {},
   "source": [
    "Let us generate observations from a Power Law RV. The first step is to derive CDF of Powel law:  $𝐹(𝑥)=𝑃(𝑋≤𝑥)$\n",
    " \n",
    "$$F(x) = 1 - \\int_{x}^\\infty p(t) dt.$$\n",
    " \n",
    "The goal is to implement a function with imput parameters x, $\\alpha$ and $x_{min}$ that calculates power law CDF. You should take the integral and derive CDF analytically. "
   ]
  },
  {
   "cell_type": "code",
   "execution_count": null,
   "id": "8b6080a7",
   "metadata": {},
   "outputs": [],
   "source": [
    "def power_law_pdf(x : float, alpha : float = 3.5, x_min : int = 1) -> float:\n",
    "    C = (alpha - 1) / x_min ** (1 - alpha)\n",
    "    return C * x ** (-alpha)"
   ]
  },
  {
   "cell_type": "code",
   "execution_count": null,
   "id": "43a19aa5",
   "metadata": {},
   "outputs": [],
   "source": [
    "def power_law_cdf(x : float, alpha : float = 3.5, x_min : int = 1) -> float:\n",
    "    # Your code here\n",
    "    raise NotImplementedError()"
   ]
  },
  {
   "cell_type": "markdown",
   "id": "aa553158",
   "metadata": {},
   "source": [
    "## 4. Power law PPF (1 point)"
   ]
  },
  {
   "cell_type": "markdown",
   "id": "02062786",
   "metadata": {},
   "source": [
    "Let $X \\sim \\text{Power law}$. Next, define a random variable $R$, s.t. $R = F(X)$, so $R$ will be uniformly distributed on interval [0, 1] ([proof](https://en.wikipedia.org/wiki/Probability_integral_transform#Proof)). Good thing here is that we easily can generate uniformly distributed pseudorandom numbers and then transform them into Power Law. Let us find an expression for $x = F^{-1}(r)$, where $r$ is an observation from uniform distrubution on interval [0, 1]. \n",
    "\n",
    "Find an analytical form of $F^{-1}(r)$ and implement a function `power_law_ppf` (percent point function, also known as a quantile) with parameters `r`, `alpha` and `x_min`. Here `r` is a list of observations."
   ]
  },
  {
   "cell_type": "code",
   "execution_count": null,
   "id": "5c633333",
   "metadata": {},
   "outputs": [],
   "source": [
    "def power_law_ppf(r : List[float], alpha : float = 3.5, x_min : int = 1) -> List[float]:\n",
    "    # Your code here\n",
    "    raise NotImplementedError()"
   ]
  },
  {
   "cell_type": "code",
   "execution_count": null,
   "id": "a2f535fa",
   "metadata": {},
   "outputs": [],
   "source": [
    "def power_law_generate(n : int, alpha : float = 3.5, x_min : int = 1, random_seed : int = 1) -> List[float]:\n",
    "    np.random.seed(random_seed)\n",
    "    uni_sample = np.random.uniform(0, 0.999, n)\n",
    "    return power_law_ppf(uni_sample, alpha, x_min)"
   ]
  },
  {
   "cell_type": "markdown",
   "id": "6329a1e8",
   "metadata": {},
   "source": [
    "## 5. Estimation of alpha with linear binning (2 points)"
   ]
  },
  {
   "cell_type": "markdown",
   "id": "e33d1fbb",
   "metadata": {},
   "source": [
    "Given observations from the Power Law distribution, try to estimate  𝛼\n",
    " . The easiest way is to draw an empirical PDF with linear binning in log-log scale and apply linear regression. By linear binning we mean to keep a bin width is fixed.\n",
    "\n",
    "The goal is to implement a function alpha_lin_bins that takes a train set, number of linear bins and returns an estimated $\\alpha$.\n",
    "\n",
    "You can use the following hints:\n",
    "\n",
    "* Take log in both side of  $𝑝(𝑥)=𝐶𝑥^{−𝛼}$\n",
    "* To calculate an empirical PDF, use np.histogram(x_train, bins=bins, density=True)\n",
    "* To calculate pseudoinverse matrix, use np.linalg.pinv\n",
    "* Also you can fit sklearn.linear.LinearRegression"
   ]
  },
  {
   "cell_type": "code",
   "execution_count": null,
   "id": "872cff2e",
   "metadata": {},
   "outputs": [],
   "source": [
    "def alpha_lin_bins(x_train : List[float], bins : int) -> float:\n",
    "    # Your code here\n",
    "    raise NotImplementedError()"
   ]
  },
  {
   "cell_type": "markdown",
   "id": "0a4cb337",
   "metadata": {},
   "source": [
    "## 6. Estimation of alpha with logarithmic binning (2 points)"
   ]
  },
  {
   "cell_type": "markdown",
   "id": "f239e8e7",
   "metadata": {},
   "source": [
    "The goal is to implement a function alpha_log_bins that takes a train set, number of log bins and returns an estimated $\\alpha$."
   ]
  },
  {
   "cell_type": "code",
   "execution_count": null,
   "id": "9616b51e",
   "metadata": {},
   "outputs": [],
   "source": [
    "def alpha_log_bins(x_train : List[float], bins : int) -> float:\n",
    "    # Your code here\n",
    "    raise NotImplementedError()"
   ]
  },
  {
   "cell_type": "markdown",
   "id": "c6a9afe5",
   "metadata": {},
   "source": [
    "## 7. Estimation parameters of Power Law by MLE (3 points)"
   ]
  },
  {
   "cell_type": "markdown",
   "id": "3d0446b9",
   "metadata": {},
   "source": [
    "### 7.1. Graph test data"
   ]
  },
  {
   "cell_type": "markdown",
   "id": "f061c772",
   "metadata": {},
   "source": [
    "Data for verification.\n",
    "You need to take the graphs from the social network at the url_1 link to verify your programms. Each of the graphs is defined in the edges file, where each line contains a pair of vertices connected by an edge. It is assumed that there are no vertices with degree 0 in these graphs.\n",
    "\n",
    "The url_2 link contains a transcript of all the data in the archive at url_1.\n",
    "\n",
    "Use these dataset to test a function in 7.2."
   ]
  },
  {
   "cell_type": "code",
   "execution_count": null,
   "id": "ea6fb8ca",
   "metadata": {},
   "outputs": [],
   "source": [
    "url_1 = 'https://snap.stanford.edu/data/twitter.tar.gz'\n",
    "url_2 = 'https://snap.stanford.edu/data/readme-Ego.txt'"
   ]
  },
  {
   "cell_type": "code",
   "execution_count": null,
   "id": "8281cf0b",
   "metadata": {},
   "outputs": [],
   "source": [
    "import urllib.request\n",
    "import tarfile\n",
    "urllib.request.urlretrieve(url_2, \"readme.txt\")\n",
    "urllib.request.urlretrieve(url_1, \"test.tar.gz\")\n",
    "file = tarfile.open(\"test.tar.gz\") \n",
    "file.extractall('./test_folder')"
   ]
  },
  {
   "cell_type": "code",
   "execution_count": null,
   "id": "d16ae8b7",
   "metadata": {},
   "outputs": [],
   "source": [
    "def totuple(a):\n",
    "    try:\n",
    "        return tuple(totuple(i) for i in a)\n",
    "    except TypeError:\n",
    "        return a"
   ]
  },
  {
   "cell_type": "code",
   "execution_count": null,
   "id": "cbfc60d3",
   "metadata": {},
   "outputs": [],
   "source": [
    "# Example: how to read edges\n",
    "edges = []\n",
    "for line in open('./test_folder/twitter/12831.edges', \"r\"):\n",
    "    values = line.split()\n",
    "    if not values:\n",
    "        continue\n",
    "    edges.append(totuple(np.array([values[0], values[1]], dtype = int)))"
   ]
  },
  {
   "cell_type": "markdown",
   "id": "f8dc7239",
   "metadata": {},
   "source": [
    "### 7.2. Estimation parameters of Power Law by MLE"
   ]
  },
  {
   "cell_type": "markdown",
   "id": "bbc20ec1",
   "metadata": {},
   "source": [
    "The MLE consists of:\n",
    "1. Fix $x_\\min$ as a minimal node degree (drop node degrees that less than $x_\\min$)\n",
    "2. Calculate $\\alpha$ via maximum likelihood estimation using fixed $x_\\min$\n",
    "$$\\alpha = 1 + n \\left[\\sum_i \\log \\frac{x_i}{x_\\min} \\right]^{-1}$$\n",
    "3. Calculate Kolmogorov-Smirnov test\n",
    "4. Fix $x_\\min$ as the next node degree\n",
    "5. Repeat 2-4 by scanning all possible $x_\\min$ and find the best $\\alpha$ and $x_\\min$ with respect to Kolmogorov-Smirnov test\n",
    "\n",
    "The goal is to implement a function `ml_power_law_params` that takes a node degree sequence `degree_sequence` and returns a tuple of two values: the best $\\alpha$ and $x_\\min$.\n",
    "\n",
    "_Hint: use `scipy.stats.kstest` where a theoretical CDF is a `power_law_cdf` function and `args=(alpha, k_min)`_\n",
    "\n",
    "Use the data provided in 7.1 to test your function."
   ]
  },
  {
   "cell_type": "code",
   "execution_count": null,
   "id": "5323fe25",
   "metadata": {},
   "outputs": [],
   "source": [
    "def mle_power_law_params(degree_sequence : List[int]) -> [float, int]:\n",
    "    # Your code here\n",
    "    raise NotImplementedError()"
   ]
  },
  {
   "cell_type": "markdown",
   "id": "8d76eb3e",
   "metadata": {},
   "source": [
    "# Random graphs and generative network models"
   ]
  },
  {
   "cell_type": "markdown",
   "id": "288b5131",
   "metadata": {},
   "source": [
    "## 1. Erdos-Renyi model (0.5 point)"
   ]
  },
  {
   "cell_type": "markdown",
   "id": "60169ce2",
   "metadata": {},
   "source": [
    "Two parameters are expected in the function input: vertices array and p parameter. The goal is to implement Erdos-Renyi model (random graph) — each pair of  𝑛 nodes are connected with some fixed probability 𝑝."
   ]
  },
  {
   "cell_type": "code",
   "execution_count": null,
   "id": "065d334f",
   "metadata": {},
   "outputs": [],
   "source": [
    "import numpy as np\n",
    "from typing import List, Tuple\n",
    "\n",
    "def erdos_renyi_graph(nodes : np.ndarray, p : float) -> List[np.ndarray]:\n",
    "    # Your code here\n",
    "    raise NotImplementedError()"
   ]
  },
  {
   "cell_type": "markdown",
   "id": "4b9228c4",
   "metadata": {},
   "source": [
    "### 1.1. Graph visualization and test data"
   ]
  },
  {
   "cell_type": "markdown",
   "id": "1f513a7b",
   "metadata": {},
   "source": [
    "Data for verification.\n",
    "You need to take the graphs from the social network at the url_1 link to verify your programms. Each of the graphs is defined in the edges file, where each line contains a pair of vertices connected by an edge. It is assumed that there are no vertices with degree 0 in these graphs.\n",
    "\n",
    "The url_2 link contains a transcript of all the data in the archive at url_1.\n",
    "\n",
    "Use this code to visualize test graphs from url provided below. This dataset is required for tests of the functions you will implement if the next tasks of this assignment."
   ]
  },
  {
   "cell_type": "code",
   "execution_count": null,
   "id": "68f8b595",
   "metadata": {},
   "outputs": [],
   "source": [
    "url_1 = 'https://snap.stanford.edu/data/facebook.tar.gz'\n",
    "url_2 = 'https://snap.stanford.edu/data/readme-Ego.txt'"
   ]
  },
  {
   "cell_type": "code",
   "execution_count": null,
   "id": "e2846e8e",
   "metadata": {},
   "outputs": [],
   "source": [
    "import urllib.request\n",
    "import tarfile\n",
    "urllib.request.urlretrieve(url_2, \"readme.txt\")\n",
    "urllib.request.urlretrieve(url_1, \"test.tar.gz\")\n",
    "file = tarfile.open(\"test.tar.gz\") \n",
    "file.extractall('./test_folder')"
   ]
  },
  {
   "cell_type": "code",
   "execution_count": null,
   "id": "2ff31afa",
   "metadata": {},
   "outputs": [],
   "source": [
    "def totuple(a):\n",
    "    try:\n",
    "        return tuple(totuple(i) for i in a)\n",
    "    except TypeError:\n",
    "        return a"
   ]
  },
  {
   "cell_type": "code",
   "execution_count": null,
   "id": "fbd3764a",
   "metadata": {},
   "outputs": [],
   "source": [
    "# Example: how to read edges\n",
    "edges = []\n",
    "for line in open('./test_folder/facebook/107.edges', \"r\"):\n",
    "    values = line.split()\n",
    "    if not values:\n",
    "        continue\n",
    "    edges.append(totuple(np.array([values[0], values[1]], dtype = int)))"
   ]
  },
  {
   "cell_type": "code",
   "execution_count": null,
   "id": "9d0b8c06",
   "metadata": {},
   "outputs": [],
   "source": [
    "import networkx as nx\n",
    "import matplotlib.pyplot as plt\n",
    "\n",
    "G1 = nx.Graph()\n",
    "G1.add_edges_from(edges)"
   ]
  },
  {
   "cell_type": "code",
   "execution_count": null,
   "id": "00ad1121",
   "metadata": {},
   "outputs": [],
   "source": [
    "plt.figure(figsize=(12,12))\n",
    "nx.draw(G1, node_size=3)\n",
    "plt.show()"
   ]
  },
  {
   "cell_type": "markdown",
   "id": "67dabe9f",
   "metadata": {},
   "source": [
    "## 2. Vertices degrees distribution (0.5 point)"
   ]
  },
  {
   "cell_type": "markdown",
   "id": "db446fd1",
   "metadata": {},
   "source": [
    "Two parameters are expected in the function input: vertices array and edges array. The goal is to implement a function that calculates the parameters n and p of the binomial distribution of the degrees of vertices of the graph.\n",
    "\n",
    "Test this function of the graphs provided via the url in task 1.1."
   ]
  },
  {
   "cell_type": "code",
   "execution_count": null,
   "id": "3b59e29e",
   "metadata": {},
   "outputs": [],
   "source": [
    "def estimate_binomial(nodes : np.ndarray, edges : List[np.ndarray]) -> [int, float]:\n",
    "    # Your code here\n",
    "    raise NotImplementedError()"
   ]
  },
  {
   "cell_type": "markdown",
   "id": "3df20c36",
   "metadata": {},
   "source": [
    "## 3. Poisson distribution to evaluate a vertices degrees distribution (0.5 point)"
   ]
  },
  {
   "cell_type": "markdown",
   "id": "c46d5fb8",
   "metadata": {},
   "source": [
    "Two parameters are expected in the function input: vertices array and edges array. The goal is to implement a function that calculates the parameters 𝜆 of the Poisson distribution of the degrees of vertices of the graph.\n",
    "\n",
    "Test this function of the graphs provided via the url in task 1.1."
   ]
  },
  {
   "cell_type": "code",
   "execution_count": null,
   "id": "8ee2a748",
   "metadata": {},
   "outputs": [],
   "source": [
    "def estimate_poisson(nodes : np.ndarray, edges : List[np.ndarray]) -> int:\n",
    "    # Your code here\n",
    "    raise NotImplementedError()"
   ]
  },
  {
   "cell_type": "markdown",
   "id": "c7d306e6",
   "metadata": {},
   "source": [
    "## 4. Graph's component average size (1 points)"
   ]
  },
  {
   "cell_type": "markdown",
   "id": "cbabe259",
   "metadata": {},
   "source": [
    "Two parameters are expected in the function input: number of graph vertices and probability p for Erdos-Renyi model. The goal is to implement a function that generates random graph for each probability from probabilities array. It is required to evaluate average siz of small graph components for each graph generated. Function returns an array of average sizes."
   ]
  },
  {
   "cell_type": "code",
   "execution_count": null,
   "id": "4c815de6",
   "metadata": {},
   "outputs": [],
   "source": [
    "def largest_connection_component(nodes : int, probabilities : np.ndarray) -> np.ndarray:\n",
    "    # Your code here\n",
    "    raise NotImplementedError()"
   ]
  },
  {
   "cell_type": "markdown",
   "id": "cf98519e",
   "metadata": {},
   "source": [
    "## 5. Graph's shortest path average length (1 points)"
   ]
  },
  {
   "cell_type": "markdown",
   "id": "6f830541",
   "metadata": {},
   "source": [
    "Two parameters are expected in the function input: the first array contains average degrees of graphs, the second one contains amount of graphs vertices. The goal is to generate random graphs with corresponding average degree and amount of vertices. Function is expected to return an array of average lengths of graphs shortest paths."
   ]
  },
  {
   "cell_type": "code",
   "execution_count": null,
   "id": "59b57bfe",
   "metadata": {},
   "outputs": [],
   "source": [
    "def average_shortest_path_length(average_degree : np.ndarray, nodes_number : np.ndarray) -> np.ndarray:\n",
    "    # Your code here\n",
    "    raise NotImplementedError()"
   ]
  },
  {
   "cell_type": "markdown",
   "id": "6129944c",
   "metadata": {},
   "source": [
    "## 6. Clustering coefficient (0.5 point)"
   ]
  },
  {
   "cell_type": "markdown",
   "id": "22678cc6",
   "metadata": {},
   "source": [
    "Two parameters are expected in the function input: vertices array and p parameter for Erdos-Renyi model. The goal is to generate a random graph and calculate all vertices' degrees and clustering coefficients."
   ]
  },
  {
   "cell_type": "code",
   "execution_count": null,
   "id": "1f19ebec",
   "metadata": {},
   "outputs": [],
   "source": [
    "def clustering_coefficient(nodes : np.ndarray, p : float) -> [np.ndarray, np.ndarray]:\n",
    "    # Your code here\n",
    "    raise NotImplementedError()"
   ]
  },
  {
   "cell_type": "markdown",
   "id": "36fbd708",
   "metadata": {},
   "source": [
    "## 7. Watts-Strogatz model (2 point)"
   ]
  },
  {
   "cell_type": "markdown",
   "id": "423cf44c",
   "metadata": {},
   "source": [
    "The goal is to implement a function Watts-Strogatz model (small-world model) — rewire an edge with probability $p$ in a ring lattice with $n$ nodes and $k$ degree.\n",
    "\n",
    "This function should be splitted into little functions described below."
   ]
  },
  {
   "cell_type": "code",
   "execution_count": null,
   "id": "e7634907",
   "metadata": {},
   "outputs": [],
   "source": [
    "def watts_strogatz_graph(nodes : np.ndarray, k : int, p : float) -> List[np.ndarray]:\n",
    "    AdjList = ring_lattice(n, k)\n",
    "    for node in tqdm(nodes):\n",
    "        rewire(AdjList, node, k, p)\n",
    "    return AdjList"
   ]
  },
  {
   "cell_type": "markdown",
   "id": "0283e8aa",
   "metadata": {},
   "source": [
    "A ring_lattice function generates a regular ring lattice with $n$ nodes $(0, 1, 2, ..., n-1)$ and $k$ node degree. In a case of an odd node degree, it round it to the nearest smaller even number."
   ]
  },
  {
   "cell_type": "code",
   "execution_count": null,
   "id": "754acc3f",
   "metadata": {},
   "outputs": [],
   "source": [
    "def ring_lattice(nodes : np.ndarray, k : int) -> List[np.ndarray]:\n",
    "    # Your code here\n",
    "    raise NotImplementedError()"
   ]
  },
  {
   "cell_type": "markdown",
   "id": "76775932",
   "metadata": {},
   "source": [
    "A function `rewire` takes in input a ring lattice defined by adjacency list `AdjList`. The other input parameters are: a `node`, a model parameter `k` and probability `p`. For every right hand side neighbor $i$, the function rewires an edge (`node`, $i$) into a random edge (`node`, $j$) with probability `p` where $i \\neq j \\neq $ `node`.\n",
    "\n",
    "*Hints:*\n",
    "* *Why do we only rewire right hand side edges? We want to guarantee that only untouched in previous iterations edges will be rewound. Look at the picture — we could not move the red edges in previous iterations.*\n",
    "\n",
    "![](https://raw.githubusercontent.com/netspractice/network-science/main/images/watts_strogatz_how_to_rewire.png)\n",
    "\n",
    "* *To speed up the generation, do not filter nodes to random selection. If a selected node produces an existing edge or a loop, just skip it.*\n",
    "\n",
    "Function should return rewired adjacency list."
   ]
  },
  {
   "cell_type": "code",
   "execution_count": null,
   "id": "5c821d36",
   "metadata": {},
   "outputs": [],
   "source": [
    "def rewire(AdjList : List[np.ndarray], node : int, k : int, p : float) -> List[np.ndarray]:\n",
    "    # Your code here\n",
    "    raise NotImplementedError()"
   ]
  },
  {
   "cell_type": "markdown",
   "id": "733c2c58",
   "metadata": {},
   "source": [
    "## 8. Barabasi-Albert model (2 point)"
   ]
  },
  {
   "cell_type": "markdown",
   "id": "03d273b7",
   "metadata": {},
   "source": [
    "The goal is to implement Barabasi-Albert model (preferential attachment model) -- a growth process where each new node connects to `m` existing nodes. The higher node degree, the higher probability of the connection. The final number of nodes is `n`.\n",
    "\n",
    "You start from a star graph with `m + 1` nodes. In each step you create `m` edges between a new node and existing nodes. The probability of connection to the node $i$ is \n",
    "$$p(i) = \\frac{k_i}{\\sum k}$$\n",
    "\n",
    "The function requres another function described below."
   ]
  },
  {
   "cell_type": "code",
   "execution_count": null,
   "id": "ba9a31e3",
   "metadata": {},
   "outputs": [],
   "source": [
    "def barabasi_albert_graph(nodes : np.ndarray, m : int) -> List[np.ndarray]:\n",
    "    AdjList = nx.star_graph(m)\n",
    "    for i in trange(1, n - m):\n",
    "        attach(m + i, AdjList, m)\n",
    "    return AdjList"
   ]
  },
  {
   "cell_type": "markdown",
   "id": "c13ffdce",
   "metadata": {},
   "source": [
    "A function `attach` attaches a `node` to a graph `G` through `m` edges. It should not return any variables but just change an adjacency list passed to the input.\n",
    "\n",
    "*Hint: Create a list with repeated nodes from a list of edges. For example, $[(1, 2), (2, 3), (2, 4)] \\to [1, 2, 2, 3, 2, 4]$. Uniformly select nodes one-by-one. Apply `random.choice` instead of `np.random.choice` to speed up the generation.*"
   ]
  },
  {
   "cell_type": "code",
   "execution_count": null,
   "id": "fe4b6ea9",
   "metadata": {},
   "outputs": [],
   "source": [
    "def attach(node : int, AdjList : List[np.ndarray], m : int) -> None:\n",
    "    # Your code here\n",
    "    raise NotImplementedError()"
   ]
  },
  {
   "cell_type": "markdown",
   "id": "5349b3b7",
   "metadata": {},
   "source": [
    "## 9. Degree dynamics in Barabasi-Albert model (2 points)"
   ]
  },
  {
   "cell_type": "markdown",
   "id": "e29ef3ab",
   "metadata": {},
   "source": [
    "Measure the degree dynamics in Barabasi-Albert model of one of the initial nodes and of the nodes added to the network at intermediate time moments (steps of the algorithm).\n",
    "\n",
    "The goal is to implement a function generate_degree_dynamics that takes np.array with considered nodes, generates Barabasi-Albert graph ( 𝑛=3000\n",
    " ,  𝑚=6\n",
    " ) and returns a np.array of the shape (30, len(cons_nodes)) — degrees of these nodes at time moments when nodes 99, 199, 299, ..., 2999 appear. If a node does not exist yet, pass np.nan value.\n",
    "\n",
    "Hint: use the barabasi_albert_graph function as a template."
   ]
  },
  {
   "cell_type": "code",
   "execution_count": null,
   "id": "20ea476d",
   "metadata": {},
   "outputs": [],
   "source": [
    "def generate_degree_dynamics(cons_nodes):\n",
    "    # YOUR CODE HERE\n",
    "    raise NotImplementedError()"
   ]
  }
 ],
 "metadata": {
  "kernelspec": {
   "display_name": "Python 3 (ipykernel)",
   "language": "python",
   "name": "python3"
  },
  "language_info": {
   "codemirror_mode": {
    "name": "ipython",
    "version": 3
   },
   "file_extension": ".py",
   "mimetype": "text/x-python",
   "name": "python",
   "nbconvert_exporter": "python",
   "pygments_lexer": "ipython3",
   "version": "3.7.12"
  }
 },
 "nbformat": 4,
 "nbformat_minor": 5
}
