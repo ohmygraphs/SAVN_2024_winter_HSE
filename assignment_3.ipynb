{
  "cells": [
    {
      "cell_type": "code",
      "execution_count": null,
      "metadata": {
        "id": "-9ZFWE6dLdET"
      },
      "outputs": [],
      "source": [
        "# при установке pytorch geometric бывают трудности с пакетом torch-sparse нужно выбирать правильную версию cuda и pytorch\n",
        "!pip install torch-scatter -f https://data.pyg.org/whl/torch-1.9.0+cu111.html\n",
        "!pip install torch-sparse -f https://data.pyg.org/whl/torch-1.9.0+cu111.html\n",
        "!pip install torch-geometric\n",
        "!pip install umap-learn"
      ]
    },
    {
      "cell_type": "code",
      "execution_count": null,
      "metadata": {
        "id": "JIYKKuhdLdEY"
      },
      "outputs": [],
      "source": [
        "from torch_geometric.nn import DeepGraphInfomax as DGI\n",
        "import os.path as osp\n",
        "import torch\n",
        "import matplotlib.pyplot as plt\n",
        "from sklearn.manifold import TSNE\n",
        "import torch_geometric.transforms as T\n",
        "from torch_geometric.datasets import Planetoid\n",
        "from tqdm.notebook import tqdm\n",
        "from torch_geometric.datasets import TUDataset\n",
        "import torch.nn as nn\n",
        "import numpy as np"
      ]
    },
    {
      "cell_type": "code",
      "execution_count": null,
      "metadata": {
        "id": "s7Qo1kKZLdEa"
      },
      "outputs": [],
      "source": [
        "# классический датасет CORA\n",
        "dataset = 'Cora'\n",
        "path = './data'\n",
        "dataset = Planetoid(path, dataset, transform=T.NormalizeFeatures())\n",
        "data = dataset[0]"
      ]
    },
    {
      "cell_type": "code",
      "execution_count": null,
      "metadata": {
        "id": "c8q_mjJGLdEc",
        "outputId": "881ac1aa-3c97-4327-8ec5-878f19ac092a"
      },
      "outputs": [
        {
          "data": {
            "text/plain": [
              "Data(edge_index=[2, 10556], test_mask=[2708], train_mask=[2708], val_mask=[2708], x=[2708, 1433], y=[2708])"
            ]
          },
          "execution_count": 8,
          "metadata": {},
          "output_type": "execute_result"
        }
      ],
      "source": [
        "data"
      ]
    },
    {
      "cell_type": "markdown",
      "metadata": {
        "id": "GywAVKtFLdEd"
      },
      "source": [
        "Так как граф задан целиком на входе, то можно использовать трансдуктивный подход к обучению DGI, если в графе появляются новые вершины и связи в течение времени - то нужен индуктивный вариант, там немного другая архитектура.\n",
        "Нам нужен какой-нибудь энкодер, чтобы получить т.н. patch representations (которые потом будут использоваться для получения graph-level репрезентаций).\n",
        "Мы берем все параметры, такие как Velickovic использовал в [статье](https://arxiv.org/pdf/1809.10341.pdf).\n",
        "corruption function нужна, чтобы делать семплинг негативных примеров (делаем row-wise shuffling исходной матрицы), по сути corrupted graph состоит из тех же вершин, что оригинальный, но в нем вершины находятся в других местах. corruption function может быть какой-нибудь другой, например, можно порезать ребра в исходном графе.\n",
        "\n",
        "Используйте различные архитектуры энкодера, чтобы получить лучший результат по метрике, опишите ваши подходы и оставьте вывод. Попробуйте **минимум 3** разных варианта. Каждый подход оценивается в 3 балла + 1 балл за визуализацию и интерпретацию.\n",
        "\n",
        "Вы можете использовать предложенную визуализацию, либо реализовать другим способом и получить дополнительные 2 балла к заданию.\n",
        "[Форма](https://forms.gle/q6NMQs3QLJQ48dut9) для отправки до 19.03 23:59 msk"
      ]
    },
    {
      "cell_type": "code",
      "execution_count": null,
      "metadata": {
        "id": "_WGSRQJFLdEg"
      },
      "outputs": [],
      "source": [
        "# здесь можно использовать любой энкодер - сравните разные по сложности слои\n",
        "class Encoder(nn.Module):\n",
        "    def __init__(self, in_channels, hidden_channels):\n",
        "        super().__init__()\n",
        "    # YOUR CODE HERE\n",
        "\n",
        "    def forward(self, x, edge_index):\n",
        "    # YOUR CODE HERE\n",
        "        return x\n"
      ]
    },
    {
      "cell_type": "code",
      "execution_count": null,
      "metadata": {
        "id": "NcuWlDkGLdEh"
      },
      "outputs": [],
      "source": [
        "def corruption(x, edge_index):\n",
        "    return x[torch.randperm(x.size(0))], edge_index"
      ]
    },
    {
      "cell_type": "code",
      "execution_count": null,
      "metadata": {
        "id": "96oj7XyhLdEi"
      },
      "outputs": [],
      "source": [
        "device = torch.device('cuda' if torch.cuda.is_available() else 'cpu')\n",
        "\n",
        "model = DeepGraphInfomax(\n",
        "    hidden_channels=512, encoder=Encoder(dataset.num_features, 512),\n",
        "    summary=lambda z, *args, **kwargs: torch.sigmoid(z.mean(dim=0)),\n",
        "    corruption=corruption).to(device)\n",
        "data = dataset[0].to(device)\n",
        "optimizer = torch.optim.Adam(model.parameters(), lr=0.001)"
      ]
    },
    {
      "cell_type": "code",
      "execution_count": null,
      "metadata": {
        "id": "HHpWj8eaLdEj"
      },
      "outputs": [],
      "source": [
        "def train():\n",
        "    model.train()\n",
        "    optimizer.zero_grad()\n",
        "    pos_z, neg_z, summary = model(data.x, data.edge_index)\n",
        "    loss = model.loss(pos_z, neg_z, summary)\n",
        "    loss.backward()\n",
        "    optimizer.step()\n",
        "    return loss.item()\n",
        "\n",
        "\n",
        "def test():\n",
        "    model.eval()\n",
        "    z, _, _ = model(data.x, data.edge_index)\n",
        "    acc = model.test(z[data.train_mask], data.y[data.train_mask],\n",
        "                     z[data.test_mask], data.y[data.test_mask], max_iter=150)\n",
        "    return acc, z"
      ]
    },
    {
      "cell_type": "code",
      "execution_count": null,
      "metadata": {
        "id": "wtx4KqpaLdEl"
      },
      "outputs": [],
      "source": [
        "for epoch in range(1, 100): #желательно поставить побольше, например 300\n",
        "    loss = train()\n",
        "    print(f'Epoch: {epoch:03d}, Loss: {loss:.4f}')\n",
        "acc, out = test()\n",
        "print(f'Accuracy: {acc:.4f}')"
      ]
    },
    {
      "cell_type": "code",
      "execution_count": null,
      "metadata": {
        "id": "ysR3RD5PLdEn"
      },
      "outputs": [],
      "source": [
        "palette = {}\n",
        "\n",
        "for n, y in enumerate(set(data.y.numpy())):\n",
        "    palette[y] = f'C{n}'"
      ]
    },
    {
      "cell_type": "code",
      "execution_count": null,
      "metadata": {
        "id": "reNEdm47LdEo"
      },
      "outputs": [],
      "source": [
        "import umap.umap_ as umap\n",
        "import seaborn as sns"
      ]
    },
    {
      "cell_type": "code",
      "execution_count": null,
      "metadata": {
        "id": "A4SU7TF-LdEp"
      },
      "outputs": [],
      "source": [
        "embd = umap.UMAP().fit_transform(out.detach().cpu().numpy())"
      ]
    },
    {
      "cell_type": "code",
      "execution_count": null,
      "metadata": {
        "id": "y9GGnDQaLdEp"
      },
      "outputs": [],
      "source": [
        "# UMAP plot после DGI\n",
        "plt.figure(figsize=(10, 10))\n",
        "sns.scatterplot(x=embd.T[0], y=embd.T[1], hue=data.y.cpu().numpy(), palette=palette)\n",
        "plt.legend(bbox_to_anchor=(1,1), loc='upper left')\n",
        "plt.savefig(\"umap_embd_dgi.png\", dpi=120)"
      ]
    },
    {
      "cell_type": "code",
      "execution_count": null,
      "metadata": {
        "id": "EDwqYZyWLdEq"
      },
      "outputs": [],
      "source": [
        "embd_x = umap.UMAP().fit_transform(data.x.numpy())"
      ]
    },
    {
      "cell_type": "code",
      "execution_count": null,
      "metadata": {
        "id": "GW5zVaaILdEq"
      },
      "outputs": [],
      "source": [
        "# исходник\n",
        "plt.figure(figsize=(10, 10))\n",
        "sns.scatterplot(x=embd_x.T[0], y=embd_x.T[1], hue=data.y.cpu().numpy(), palette=palette)\n",
        "plt.legend(bbox_to_anchor=(1,1), loc='upper left')\n",
        "plt.savefig(\"umap_embd.png\", dpi=120)"
      ]
    },
    {
      "cell_type": "code",
      "execution_count": null,
      "metadata": {
        "id": "lF8hpqakLdEq"
      },
      "outputs": [],
      "source": []
    }
  ],
  "metadata": {
    "kernelspec": {
      "display_name": "Python 3 (ipykernel)",
      "language": "python",
      "name": "python3"
    },
    "language_info": {
      "codemirror_mode": {
        "name": "ipython",
        "version": 3
      },
      "file_extension": ".py",
      "mimetype": "text/x-python",
      "name": "python",
      "nbconvert_exporter": "python",
      "pygments_lexer": "ipython3",
      "version": "3.7.12"
    },
    "colab": {
      "provenance": []
    }
  },
  "nbformat": 4,
  "nbformat_minor": 0
}