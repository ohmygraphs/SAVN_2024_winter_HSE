{
  "cells": [
    {
      "cell_type": "markdown",
      "metadata": {
        "id": "XuXWJLEm2UWS"
      },
      "source": [
        "# **Assignment_0**\n",
        "\n",
        "Assignment_0 **will not be graded**. We highly recommend you to run this notebook, so you can get familiar with the basic concepts of graph mining.\n",
        "\n",
        "In this notebook, we will introduce [NetworkX](https://networkx.org/documentation/stable/)\n"
      ]
    },
    {
      "cell_type": "markdown",
      "metadata": {
        "id": "8gzsP50bF6Gb"
      },
      "source": [
        "\n",
        "# NetworkX Tutorial\n",
        "\n",
        "NetworkX is a Python language software package for the creation, manipulation, and study of the structure, dynamics, and function of complex networks.\n",
        "\n",
        "With NetworkX you can load and store networks in standard and nonstandard data formats, generate many types of random and classic networks, analyze network structure, build network models, design new network algorithms, draw networks, and much more.\n",
        "\n",
        "Library documentation: <a>https://networkx.github.io/</a>"
      ]
    },
    {
      "cell_type": "markdown",
      "metadata": {
        "id": "Nwwq0nSdmsOL"
      },
      "source": [
        "## Setup"
      ]
    },
    {
      "cell_type": "code",
      "execution_count": null,
      "metadata": {
        "id": "7p2pHdwnsu7-"
      },
      "outputs": [],
      "source": [
        "# Upgrade packages\n",
        "!pip install --upgrade scipy networkx"
      ]
    },
    {
      "cell_type": "code",
      "execution_count": null,
      "metadata": {
        "id": "QeqN7MHvH1OA"
      },
      "outputs": [],
      "source": [
        "# Import the NetworkX package\n",
        "import networkx as nx"
      ]
    },
    {
      "cell_type": "markdown",
      "metadata": {
        "id": "MCIeGAfLfAMK"
      },
      "source": [
        "## Graph\n",
        "NetworkX provides several classes to store different types of graphs, such as directed and undirected graph. It also provides classes to create multigraphs (both directed and undirected).\n",
        "\n",
        "For more information, please refer to [NetworkX graph types](https://networkx.org/documentation/stable/reference/classes/index.html)."
      ]
    },
    {
      "cell_type": "code",
      "execution_count": null,
      "metadata": {
        "id": "qSI_n6P-e0PW"
      },
      "outputs": [],
      "source": [
        "# Create an undirected graph G\n",
        "G = nx.Graph()\n",
        "print(G.is_directed())\n",
        "\n",
        "# Create a directed graph H\n",
        "H = nx.DiGraph()\n",
        "print(H.is_directed())\n",
        "\n",
        "# Add graph level attribute\n",
        "G.graph[\"Name\"] = \"Bar\"\n",
        "print(G.graph)"
      ]
    },
    {
      "cell_type": "markdown",
      "metadata": {
        "id": "x0pLs0-Ka9j8"
      },
      "source": [
        "## Node\n",
        "\n",
        "Nodes (with attributes) can be easily added to NetworkX graphs."
      ]
    },
    {
      "cell_type": "code",
      "execution_count": null,
      "metadata": {
        "id": "jQ8ApAL5H1GB"
      },
      "outputs": [],
      "source": [
        "# Add one node with node level attributes\n",
        "G.add_node(0, feature=5, label=0)\n",
        "\n",
        "# Get attributes of the node 0\n",
        "node_0_attr = G.nodes[0]\n",
        "print(\"Node 0 has the attributes {}\".format(node_0_attr))"
      ]
    },
    {
      "cell_type": "code",
      "execution_count": null,
      "metadata": {
        "id": "rZaJklNJSbt2"
      },
      "outputs": [],
      "source": [
        "G.nodes(data=True)"
      ]
    },
    {
      "cell_type": "code",
      "execution_count": null,
      "metadata": {
        "id": "btOdMYqJaKia"
      },
      "outputs": [],
      "source": [
        "# Add multiple nodes with attributes\n",
        "G.add_nodes_from(\n",
        "    [(1, {\"feature\": 1, \"label\": 1}), (2, {\"feature\": 2, \"label\": 2})]\n",
        ")  # (node, attrdict)\n",
        "\n",
        "# Loop through all the nodes\n",
        "# Set data=True will return node attributes\n",
        "for node in G.nodes(data=True):\n",
        "    print(node)\n",
        "\n",
        "# Get number of nodes\n",
        "num_nodes = G.number_of_nodes()\n",
        "print(\"G has {} nodes\".format(num_nodes))"
      ]
    },
    {
      "cell_type": "markdown",
      "metadata": {
        "id": "0AdoaZPgbRis"
      },
      "source": [
        "## Edge\n",
        "\n",
        "Similar to nodes, edges (with attributes) can also be easily added to NetworkX graphs."
      ]
    },
    {
      "cell_type": "code",
      "execution_count": null,
      "metadata": {
        "id": "0szH5F6EH079"
      },
      "outputs": [],
      "source": [
        "# Add one edge with edge weight 0.5\n",
        "G.add_edge(0, 1, weight=0.5)\n",
        "\n",
        "# Get attributes of the edge (0, 1)\n",
        "edge_0_1_attr = G.edges[(0, 1)]\n",
        "print(\"Edge (0, 1) has the attributes {}\".format(edge_0_1_attr))"
      ]
    },
    {
      "cell_type": "code",
      "execution_count": null,
      "metadata": {
        "id": "QRTmi4EUaf_I"
      },
      "outputs": [],
      "source": [
        "# Add multiple edges with edge weights\n",
        "G.add_edges_from([(1, 2, {\"weight\": 0.3}), (2, 0, {\"weight\": 0.1})])\n",
        "\n",
        "# Loop through all the edges\n",
        "# Here there is no data=True, so only the edge will be returned\n",
        "for edge in G.edges():\n",
        "    print(edge)\n",
        "\n",
        "# Get number of edges\n",
        "num_edges = G.number_of_edges()\n",
        "print(\"G has {} edges\".format(num_edges))"
      ]
    },
    {
      "cell_type": "markdown",
      "metadata": {
        "id": "9u1Utjn4bc7k"
      },
      "source": [
        "## Visualization\n",
        "NetworkX also provides tooling to conventiently visualize graphs. Not recommended to use NetworkX for large-scale graphs.\n",
        "If you want the node labels to be visible in your drawing, just add `with_labels=True` to the `nx.draw call`."
      ]
    },
    {
      "cell_type": "code",
      "execution_count": null,
      "metadata": {
        "id": "lykPzFOEahuP"
      },
      "outputs": [],
      "source": [
        "# Draw the graph\n",
        "nx.draw(G, with_labels=True)"
      ]
    },
    {
      "cell_type": "markdown",
      "metadata": {
        "id": "_Q6YTP2FDbOS"
      },
      "source": [
        "## Node Degree and Neighbor"
      ]
    },
    {
      "cell_type": "code",
      "execution_count": null,
      "metadata": {
        "id": "GFA3B6Z_DE3q"
      },
      "outputs": [],
      "source": [
        "node_id = 1\n",
        "\n",
        "# Degree of node 1\n",
        "print(\"Node {} has degree {}\".format(node_id, G.degree[node_id]))\n",
        "\n",
        "# Get neighbor of node 1\n",
        "for neighbor in G.neighbors(node_id):\n",
        "    print(\"Node {} has neighbor {}\".format(node_id, neighbor))"
      ]
    },
    {
      "cell_type": "code",
      "execution_count": null,
      "metadata": {
        "id": "QUgTJK7LJ480"
      },
      "outputs": [],
      "source": [
        "# can also remove or clear\n",
        "G.remove_node(0)\n",
        "G.clear()\n",
        "print(G.graph)"
      ]
    },
    {
      "cell_type": "code",
      "execution_count": null,
      "metadata": {
        "id": "ex2BN6rDTaQ_"
      },
      "outputs": [],
      "source": [
        "nx.path_graph(num_nodes)"
      ]
    },
    {
      "cell_type": "markdown",
      "metadata": {
        "id": "Y0ZlX5XfQpTg"
      },
      "source": [
        "## Draw methods\n",
        "You can draw the graph using two drawing methods: `draw()` and `draw_networkx()`. With `draw()` you can draw a simple graph with no node labels or edge labels and using the full Matplotlib figure area and no axis labels by default, while `draw_networkx()` allows you to define more options and customize your graph.\n",
        "\n",
        "For more information, please refer to [Drawing](https://networkx.org/documentation/stable/reference/drawing.html)\n",
        "\n",
        "Let's say we defined a complete bipartite graph as below:"
      ]
    },
    {
      "cell_type": "code",
      "execution_count": null,
      "metadata": {
        "id": "yt_QF9zqRJfK"
      },
      "outputs": [],
      "source": [
        "K33 = nx.complete_bipartite_graph(3, 3)"
      ]
    },
    {
      "cell_type": "code",
      "execution_count": null,
      "metadata": {
        "id": "rJWy6swcRT9p"
      },
      "outputs": [],
      "source": [
        "nx.draw(K33)"
      ]
    },
    {
      "cell_type": "code",
      "execution_count": null,
      "metadata": {
        "id": "kVPXp5HHRkD3"
      },
      "outputs": [],
      "source": [
        "nx.draw_networkx(K33)"
      ]
    },
    {
      "cell_type": "markdown",
      "metadata": {
        "id": "InTDqohFRxBQ"
      },
      "source": [
        "## Layouts"
      ]
    },
    {
      "cell_type": "markdown",
      "metadata": {
        "id": "oe7jGXDeR9_e"
      },
      "source": [
        "Graph layout will define node position for your graph drawing. There are a bunch of predefined layouts in NetworkX. The default one is called `spring_layout()` which poistions nodes using Fruchterman-Reingold force-directed algorithm.\n",
        "\n",
        "Let's show the basic usage of graph layouts on a simple graph example."
      ]
    },
    {
      "cell_type": "code",
      "execution_count": null,
      "metadata": {
        "id": "EjVtw3ZHThCV"
      },
      "outputs": [],
      "source": [
        "G = nx.dodecahedral_graph()\n",
        "nx.draw(G)"
      ]
    },
    {
      "cell_type": "markdown",
      "metadata": {
        "id": "-fLf7_pQTpJ9"
      },
      "source": [
        "Since we did not define any layout above, the default `spring_layout()` will be used.\n",
        "\n",
        "If we want to draw the same graph with the `shell_layout()` that positiones nodes in concentric circles, we would use the following code:"
      ]
    },
    {
      "cell_type": "code",
      "execution_count": null,
      "metadata": {
        "id": "oa4XpIquTsgm"
      },
      "outputs": [],
      "source": [
        "nx.draw(G, pos=nx.shell_layout(G))"
      ]
    },
    {
      "cell_type": "markdown",
      "metadata": {
        "id": "qu8WOxj-Twqt"
      },
      "source": [
        "For `spiral_layout()` run:"
      ]
    },
    {
      "cell_type": "code",
      "execution_count": null,
      "metadata": {
        "id": "CWYzGAolTzjk"
      },
      "outputs": [],
      "source": [
        "nx.draw(G, pos=nx.spiral_layout(G))"
      ]
    },
    {
      "cell_type": "markdown",
      "metadata": {
        "id": "7xFzN64abD4x"
      },
      "source": [
        "## Other examples\n",
        "You can draw a panel with graphs by `plt.subplot()` from `matplotlib.pyplot`"
      ]
    },
    {
      "cell_type": "code",
      "execution_count": null,
      "metadata": {
        "id": "qnaIWUTia8ng"
      },
      "outputs": [],
      "source": [
        "import matplotlib.pyplot as plt\n",
        "\n",
        "G = nx.petersen_graph()\n",
        "plt.subplot(121)\n",
        "\n",
        "nx.draw(G, with_labels=True, font_weight=\"bold\", node_color=\"orange\")\n",
        "plt.subplot(122)\n",
        "\n",
        "nx.draw_shell(\n",
        "    G,\n",
        "    nlist=[range(5, 10), range(5)],\n",
        "    with_labels=True,\n",
        "    font_weight=\"bold\",\n",
        "    node_color=\"green\",\n",
        ")\n",
        "\n",
        "plt.show()"
      ]
    },
    {
      "cell_type": "markdown",
      "metadata": {
        "id": "Sv8GrsDDjqBJ"
      },
      "source": [
        "### How to draw directed graphs using NetworkX?\n",
        "By using the base class for directed graphs, `DiGraph()`, we are able to draw a directed graph with arrows to indicate the direction of edges."
      ]
    },
    {
      "cell_type": "code",
      "execution_count": null,
      "metadata": {
        "id": "WHc3gODvpApc"
      },
      "outputs": [],
      "source": [
        "import networkx as nx\n",
        "import matplotlib.pyplot as plt\n",
        "\n",
        "G = nx.DiGraph()\n",
        "G.add_edges_from(\n",
        "    [\n",
        "        (\"A\", \"B\"),\n",
        "        (\"A\", \"C\"),\n",
        "        (\"D\", \"B\"),\n",
        "        (\"E\", \"C\"),\n",
        "        (\"E\", \"F\"),\n",
        "        (\"B\", \"H\"),\n",
        "        (\"B\", \"G\"),\n",
        "        (\"B\", \"F\"),\n",
        "        (\"C\", \"G\"),\n",
        "    ]\n",
        ")\n",
        "\n",
        "nx.draw(G, with_labels=True)"
      ]
    },
    {
      "cell_type": "markdown",
      "metadata": {
        "id": "aEvtNpz2xxcE"
      },
      "source": [
        "### How to change the color and width of edges in NetworkX graphs according to edge attributes?\n",
        "\n",
        "Dictionaries are the underlying data structure used for NetworkX graphs, and as of Python 3.7+ they maintain insertion order. You can use the `nx.get_edge_attributes()` function to retrieve edge attributes. For every run, we are guaranteed to have the same edge order."
      ]
    },
    {
      "cell_type": "code",
      "execution_count": null,
      "metadata": {
        "id": "QNUZxelkx0YA"
      },
      "outputs": [],
      "source": [
        "G = nx.Graph()\n",
        "G.add_edge(1, 2, color=\"r\", weight=3)\n",
        "G.add_edge(2, 3, color=\"b\", weight=5)\n",
        "G.add_edge(3, 4, color=\"g\", weight=7)\n",
        "\n",
        "pos = nx.circular_layout(G)\n",
        "\n",
        "colors = nx.get_edge_attributes(G, \"color\").values()\n",
        "weights = nx.get_edge_attributes(G, \"weight\").values()\n",
        "\n",
        "nx.draw(G, pos, edge_color=colors, width=list(weights))"
      ]
    },
    {
      "cell_type": "markdown",
      "metadata": {
        "id": "RrIFCJnlvGkg"
      },
      "source": [
        "## Documentation"
      ]
    },
    {
      "cell_type": "markdown",
      "metadata": {
        "id": "_7PBwhIKu3et"
      },
      "source": [
        "You can explore more NetworkX functions through its [documentation](https://networkx.org/documentation/stable/)."
      ]
    }
  ],
  "metadata": {
    "colab": {
      "machine_shape": "hm",
      "provenance": []
    },
    "kernelspec": {
      "display_name": "Python 3",
      "language": "python",
      "name": "python3"
    },
    "language_info": {
      "codemirror_mode": {
        "name": "ipython",
        "version": 3
      },
      "file_extension": ".py",
      "mimetype": "text/x-python",
      "name": "python",
      "nbconvert_exporter": "python",
      "pygments_lexer": "ipython3",
      "version": "3.11.5"
    }
  },
  "nbformat": 4,
  "nbformat_minor": 0
}
